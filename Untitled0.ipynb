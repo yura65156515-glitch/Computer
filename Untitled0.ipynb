{
  "nbformat": 4,
  "nbformat_minor": 0,
  "metadata": {
    "colab": {
      "provenance": [],
      "authorship_tag": "ABX9TyPNeBOps6hsTF8hzGjZ6ZPi",
      "include_colab_link": true
    },
    "kernelspec": {
      "name": "python3",
      "display_name": "Python 3"
    },
    "language_info": {
      "name": "python"
    }
  },
  "cells": [
    {
      "cell_type": "markdown",
      "metadata": {
        "id": "view-in-github",
        "colab_type": "text"
      },
      "source": [
        "<a href=\"https://colab.research.google.com/github/yura65156515-glitch/Computer/blob/main/Untitled0.ipynb\" target=\"_parent\"><img src=\"https://colab.research.google.com/assets/colab-badge.svg\" alt=\"Open In Colab\"/></a>"
      ]
    },
    {
      "cell_type": "code",
      "source": [
        "import numpy as np\n",
        "import networkx as nx\n",
        "import matplotlib.pyplot as plt"
      ],
      "metadata": {
        "id": "Yx0yzA-xKeOt"
      },
      "execution_count": 5,
      "outputs": []
    },
    {
      "cell_type": "code",
      "execution_count": 3,
      "metadata": {
        "colab": {
          "base_uri": "https://localhost:8080/"
        },
        "id": "kc237tFWHHhW",
        "outputId": "94a23252-b967-4441-90bd-d53afd805ba4"
      },
      "outputs": [
        {
          "output_type": "stream",
          "name": "stdout",
          "text": [
            "관계 R: {(2, 3), (3, 2), (1, 2), (3, 4)}\n"
          ]
        }
      ],
      "source": [
        "A={1,2,3}\n",
        "B={2,3,4}\n",
        "\n",
        "R={(1,2),(2,3),(3,2),(3,4)}\n",
        "\n",
        "print(\"관계 R:\", R)"
      ]
    },
    {
      "cell_type": "code",
      "source": [
        "A_list=sorted(A)\n",
        "B_list=sorted(B)\n",
        "\n",
        "relation_matrix=np.zeros((len(A_list),len(B_list)),dtype=int)\n",
        "\n",
        "for i,a in enumerate(A_list):\n",
        "  for j,b in enumerate(B_list):\n",
        "    if (a,b) in R:\n",
        "      relation_matrix[i,j] = 1\n",
        "\n",
        "print(\"관계 행렬 (rows: A, columns: B:)\")\n",
        "print(relation_matrix)"
      ],
      "metadata": {
        "colab": {
          "base_uri": "https://localhost:8080/"
        },
        "id": "VjTOsmu6H5Cq",
        "outputId": "54eaec69-1194-46b3-9d51-f4120227c2e3"
      },
      "execution_count": 6,
      "outputs": [
        {
          "output_type": "stream",
          "name": "stdout",
          "text": [
            "관계 행렬 (rows: A, columns: B:)\n",
            "[[1 0 0]\n",
            " [0 1 0]\n",
            " [1 0 1]]\n"
          ]
        }
      ]
    },
    {
      "cell_type": "code",
      "source": [
        "C = {'x','y'}\n",
        "S = {(2,'x'),(3,'y'),(4,'x')}\n",
        "\n",
        "composed_relation = set()\n",
        "\n",
        "for (a,b1) in R:\n",
        "  for (b2,c) in S:\n",
        "    if b1 == b2:\n",
        "      composed_relation.add((a,c))\n",
        "\n",
        "print(\"\\n합성관계 R * S:\", composed_relation)"
      ],
      "metadata": {
        "colab": {
          "base_uri": "https://localhost:8080/"
        },
        "id": "LhQAer3oJSUI",
        "outputId": "7c71b900-9218-4130-93f3-aee2f5495e0c"
      },
      "execution_count": 4,
      "outputs": [
        {
          "output_type": "stream",
          "name": "stdout",
          "text": [
            "\n",
            "합성관계 R * S: {(3, 'x'), (2, 'y'), (1, 'x')}\n"
          ]
        }
      ]
    }
  ]
}