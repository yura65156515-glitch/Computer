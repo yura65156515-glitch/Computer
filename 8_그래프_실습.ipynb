{
  "nbformat": 4,
  "nbformat_minor": 0,
  "metadata": {
    "colab": {
      "provenance": [],
      "authorship_tag": "ABX9TyNBLvRg8XtNyZWddOiiAxAG",
      "include_colab_link": true
    },
    "kernelspec": {
      "name": "python3",
      "display_name": "Python 3"
    },
    "language_info": {
      "name": "python"
    }
  },
  "cells": [
    {
      "cell_type": "markdown",
      "metadata": {
        "id": "view-in-github",
        "colab_type": "text"
      },
      "source": [
        "<a href=\"https://colab.research.google.com/github/yura65156515-glitch/Computer/blob/main/8_%EA%B7%B8%EB%9E%98%ED%94%84_%EC%8B%A4%EC%8A%B5.ipynb\" target=\"_parent\"><img src=\"https://colab.research.google.com/assets/colab-badge.svg\" alt=\"Open In Colab\"/></a>"
      ]
    },
    {
      "cell_type": "code",
      "execution_count": 2,
      "metadata": {
        "id": "JlxTHeVjLRrk"
      },
      "outputs": [],
      "source": [
        "graph={\n",
        "    'Alice': ['Bob','Charlie'],\n",
        "    'Bob' : ['David','Eve'],\n",
        "    'Charlie': ['Frank'],\n",
        "    'David' : [],\n",
        "    'Eve': ['Frank'],\n",
        "    'Frank': []\n",
        "}"
      ]
    },
    {
      "cell_type": "code",
      "source": [
        "def dfs(graph, v, visited):\n",
        "  visited.add(v)\n",
        "  print(v, end='')\n",
        "  for neighbor in graph[v]:\n",
        "    if neighbor not in visited:\n",
        "      dfs(graph, neighbor, visited)"
      ],
      "metadata": {
        "id": "P9A8E-tFNL0-"
      },
      "execution_count": 4,
      "outputs": []
    },
    {
      "cell_type": "code",
      "source": [
        "print(\"DEF 탐색순서:\")\n",
        "dfs(graph,'Alice',set())"
      ],
      "metadata": {
        "colab": {
          "base_uri": "https://localhost:8080/"
        },
        "id": "X-H-XXkuOjQx",
        "outputId": "b7ec2102-6153-4048-a41f-e56ffbb05258"
      },
      "execution_count": 5,
      "outputs": [
        {
          "output_type": "stream",
          "name": "stdout",
          "text": [
            "DEF 탐색순서:\n",
            "AliceBobDavidEveFrankCharlie"
          ]
        }
      ]
    },
    {
      "cell_type": "code",
      "source": [
        "from collections import deque\n",
        "\n",
        "def bfs(graph, start):\n",
        "  visited = set()\n",
        "  queue = deque([start])\n",
        "  visited.add(start)\n",
        "\n",
        "  while queue:\n",
        "    v = queue.popleft()\n",
        "    print(v, end='')\n",
        "    for neighbor in graph[v]:\n",
        "      if neighbor not in visited:\n",
        "        visited.add(neighbor)\n",
        "        queue.append(neighbor)\n",
        "\n",
        "print(\"\\nBFS 탐색 순서:\")\n",
        "bfs(graph, 'Alice')"
      ],
      "metadata": {
        "colab": {
          "base_uri": "https://localhost:8080/"
        },
        "id": "3ldL0sbWO1CF",
        "outputId": "694d9952-5c91-4b36-f9e1-34643909c2df"
      },
      "execution_count": 6,
      "outputs": [
        {
          "output_type": "stream",
          "name": "stdout",
          "text": [
            "\n",
            "BFS 탐색 순서:\n",
            "AliceBobCharlieDavidEveFrank"
          ]
        }
      ]
    },
    {
      "cell_type": "code",
      "source": [
        "from collections import deque\n",
        "\n",
        "def recommend_friend(graph, start):\n",
        "  visited = set()\n",
        "  queue = deque([(start,0)])\n",
        "\n",
        "  print(f\"\\n{start}의 친구추천 (2단계):\")\n",
        "\n",
        "  while queue:\n",
        "    current, depth = queue.popleft()\n",
        "    if current not in visited:\n",
        "      visited.add(current)\n",
        "      if depth == 2:\n",
        "        print(\"-\",current)\n",
        "      if depth < 2:\n",
        "        for neighbor in graph[current]:\n",
        "          queue.append((neighbor, depth + 1))"
      ],
      "metadata": {
        "id": "iIc0QeHwPeOE"
      },
      "execution_count": 13,
      "outputs": []
    },
    {
      "cell_type": "code",
      "source": [
        "recommend_friend(graph,'Alice')"
      ],
      "metadata": {
        "colab": {
          "base_uri": "https://localhost:8080/"
        },
        "id": "hBPAOSh_QNg8",
        "outputId": "c0f8017c-39d4-46a8-c961-8341a7a22806"
      },
      "execution_count": 14,
      "outputs": [
        {
          "output_type": "stream",
          "name": "stdout",
          "text": [
            "\n",
            "Alice의 친구추천 (2단계):\n",
            "- David\n",
            "- Eve\n",
            "- Frank\n"
          ]
        }
      ]
    }
  ]
}